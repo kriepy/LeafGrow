{
 "cells": [
  {
   "cell_type": "code",
   "execution_count": 7,
   "metadata": {},
   "outputs": [
    {
     "name": "stdout",
     "output_type": "stream",
     "text": [
      "Hello Start!\n",
      "Plotly version: 3.6.1\n"
     ]
    },
    {
     "data": {
      "text/html": [
       "<script type=\"text/javascript\">window.PlotlyConfig = {MathJaxConfig: 'local'};</script><script type=\"text/javascript\">if (window.MathJax) {MathJax.Hub.Config({SVG: {font: \"STIX-Web\"}});}</script><script>requirejs.config({paths: { 'plotly': ['https://cdn.plot.ly/plotly-latest.min']},});if(!window._Plotly) {require(['plotly'],function(plotly) {window._Plotly=plotly;});}</script>"
      ],
      "text/vnd.plotly.v1+html": [
       "<script type=\"text/javascript\">window.PlotlyConfig = {MathJaxConfig: 'local'};</script><script type=\"text/javascript\">if (window.MathJax) {MathJax.Hub.Config({SVG: {font: \"STIX-Web\"}});}</script><script>requirejs.config({paths: { 'plotly': ['https://cdn.plot.ly/plotly-latest.min']},});if(!window._Plotly) {require(['plotly'],function(plotly) {window._Plotly=plotly;});}</script>"
      ]
     },
     "metadata": {},
     "output_type": "display_data"
    },
    {
     "data": {
      "application/vnd.plotly.v1+json": {
       "config": {
        "linkText": "Export to plot.ly",
        "plotlyServerURL": "https://plot.ly",
        "showLink": false
       },
       "data": [
        {
         "type": "scatter",
         "uid": "cc4ff485-bd31-4ac6-b29f-2c3f70db7e46",
         "x": [
          2.5,
          2.5
         ],
         "y": [
          1,
          1.5
         ]
        }
       ],
       "frames": [
        {
         "data": [
          {
           "type": "scatter",
           "x": [
            2.5,
            2.5
           ],
           "y": [
            1,
            1.5
           ]
          }
         ]
        },
        {
         "data": [
          {
           "type": "scatter",
           "x": [
            2.5,
            2.5
           ],
           "y": [
            1,
            2
           ]
          }
         ]
        },
        {
         "data": [
          {
           "type": "scatter",
           "x": [
            2.5,
            2.5
           ],
           "y": [
            1,
            2.5
           ]
          }
         ]
        },
        {
         "data": [
          {
           "type": "scatter",
           "x": [
            2.5,
            2.5
           ],
           "y": [
            1,
            3
           ]
          }
         ],
         "layout": {
          "title": {
           "text": "End Title"
          }
         }
        }
       ],
       "layout": {
        "title": {
         "text": "Start Title"
        },
        "updatemenus": [
         {
          "buttons": [
           {
            "args": [
             null
            ],
            "label": "Play",
            "method": "animate"
           }
          ],
          "type": "buttons"
         }
        ],
        "yaxis": {
         "autorange": false,
         "range": [
          0,
          4
         ]
        }
       }
      },
      "text/html": [
       "<div id=\"9e7eae77-b783-40f8-abff-62fce5392ebb\" style=\"height: 525px; width: 100%;\" class=\"plotly-graph-div\"></div><script type=\"text/javascript\">require([\"plotly\"], function(Plotly) { window.PLOTLYENV=window.PLOTLYENV || {};window.PLOTLYENV.BASE_URL=\"https://plot.ly\";\n",
       "        Plotly.plot(\n",
       "            '9e7eae77-b783-40f8-abff-62fce5392ebb',\n",
       "            [{\"x\": [2.5, 2.5], \"y\": [1, 1.5], \"type\": \"scatter\", \"uid\": \"f7496432-31b2-4dcc-aa61-4e6af4ca8469\"}],\n",
       "            {\"title\": {\"text\": \"Start Title\"}, \"updatemenus\": [{\"buttons\": [{\"args\": [null], \"label\": \"Play\", \"method\": \"animate\"}], \"type\": \"buttons\"}], \"yaxis\": {\"autorange\": false, \"range\": [0, 4]}},\n",
       "            {\"showLink\": false, \"linkText\": \"Export to plot.ly\", \"plotlyServerURL\": \"https://plot.ly\"}\n",
       "        ).then(function () {return Plotly.addFrames('9e7eae77-b783-40f8-abff-62fce5392ebb',[{\"data\": [{\"x\": [2.5, 2.5], \"y\": [1, 1.5], \"type\": \"scatter\"}]}, {\"data\": [{\"x\": [2.5, 2.5], \"y\": [1, 2], \"type\": \"scatter\"}]}, {\"data\": [{\"x\": [2.5, 2.5], \"y\": [1, 2.5], \"type\": \"scatter\"}]}, {\"data\": [{\"x\": [2.5, 2.5], \"y\": [1, 3], \"type\": \"scatter\"}], \"layout\": {\"title\": {\"text\": \"End Title\"}}}]);}).then(function(){Plotly.animate('9e7eae77-b783-40f8-abff-62fce5392ebb');})\n",
       "        });</script><script type=\"text/javascript\">window.addEventListener(\"resize\", function(){window._Plotly.Plots.resize(document.getElementById(\"9e7eae77-b783-40f8-abff-62fce5392ebb\"));});</script>"
      ],
      "text/vnd.plotly.v1+html": [
       "<div id=\"9e7eae77-b783-40f8-abff-62fce5392ebb\" style=\"height: 525px; width: 100%;\" class=\"plotly-graph-div\"></div><script type=\"text/javascript\">require([\"plotly\"], function(Plotly) { window.PLOTLYENV=window.PLOTLYENV || {};window.PLOTLYENV.BASE_URL=\"https://plot.ly\";\n",
       "        Plotly.plot(\n",
       "            '9e7eae77-b783-40f8-abff-62fce5392ebb',\n",
       "            [{\"x\": [2.5, 2.5], \"y\": [1, 1.5], \"type\": \"scatter\", \"uid\": \"f7496432-31b2-4dcc-aa61-4e6af4ca8469\"}],\n",
       "            {\"title\": {\"text\": \"Start Title\"}, \"updatemenus\": [{\"buttons\": [{\"args\": [null], \"label\": \"Play\", \"method\": \"animate\"}], \"type\": \"buttons\"}], \"yaxis\": {\"autorange\": false, \"range\": [0, 4]}},\n",
       "            {\"showLink\": false, \"linkText\": \"Export to plot.ly\", \"plotlyServerURL\": \"https://plot.ly\"}\n",
       "        ).then(function () {return Plotly.addFrames('9e7eae77-b783-40f8-abff-62fce5392ebb',[{\"data\": [{\"x\": [2.5, 2.5], \"y\": [1, 1.5], \"type\": \"scatter\"}]}, {\"data\": [{\"x\": [2.5, 2.5], \"y\": [1, 2], \"type\": \"scatter\"}]}, {\"data\": [{\"x\": [2.5, 2.5], \"y\": [1, 2.5], \"type\": \"scatter\"}]}, {\"data\": [{\"x\": [2.5, 2.5], \"y\": [1, 3], \"type\": \"scatter\"}], \"layout\": {\"title\": {\"text\": \"End Title\"}}}]);}).then(function(){Plotly.animate('9e7eae77-b783-40f8-abff-62fce5392ebb');})\n",
       "        });</script><script type=\"text/javascript\">window.addEventListener(\"resize\", function(){window._Plotly.Plots.resize(document.getElementById(\"9e7eae77-b783-40f8-abff-62fce5392ebb\"));});</script>"
      ]
     },
     "metadata": {},
     "output_type": "display_data"
    }
   ],
   "source": [
    "import plotly\n",
    "from plotly.offline import init_notebook_mode, iplot\n",
    "from IPython.display import display, HTML\n",
    "\n",
    "print(\"Hello Start!\")\n",
    "print(\"Plotly version:\", plotly.__version__)\n",
    "\n",
    "\n",
    "init_notebook_mode(connected=True)\n",
    "\n",
    "figure = {'data': [{'x': [2.5, 2.5], 'y': [1, 1.5]}],\n",
    "          'layout': {'title': 'Start Title',\n",
    "                     'yaxis': {'range': [0, 4], 'autorange': False},\n",
    "                     'updatemenus': [{'type': 'buttons',\n",
    "                                      'buttons': [{'label': 'Play',\n",
    "                                                   'method': 'animate',\n",
    "                                                   'args': [None]}]}]\n",
    "                    },\n",
    "          'frames': [{'data': [{'x': [2.5, 2.5], 'y': [1, 1.5]}]},\n",
    "                     {'data': [{'x': [2.5, 2.5], 'y': [1, 2]}]},\n",
    "                     {'data': [{'x': [2.5, 2.5], 'y': [1, 2.5]}]},\n",
    "                     {'data': [{'x': [2.5, 2.5], 'y': [1, 3]}],\n",
    "                      'layout': {'title': 'End Title'}}]}\n",
    "\n",
    "iplot(figure)\n"
   ]
  },
  {
   "cell_type": "code",
   "execution_count": null,
   "metadata": {},
   "outputs": [],
   "source": []
  }
 ],
 "metadata": {
  "kernelspec": {
   "display_name": "Python 3",
   "language": "python",
   "name": "python3"
  },
  "language_info": {
   "codemirror_mode": {
    "name": "ipython",
    "version": 3
   },
   "file_extension": ".py",
   "mimetype": "text/x-python",
   "name": "python",
   "nbconvert_exporter": "python",
   "pygments_lexer": "ipython3",
   "version": "3.6.7"
  }
 },
 "nbformat": 4,
 "nbformat_minor": 2
}
